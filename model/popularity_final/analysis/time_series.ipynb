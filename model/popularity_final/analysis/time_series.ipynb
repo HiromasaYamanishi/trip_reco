{
 "cells": [
  {
   "cell_type": "code",
   "execution_count": 2,
   "metadata": {},
   "outputs": [],
   "source": [
    "df_exp = pd.read_csv('/home/yamanishi/project/trip_recommend/data/jalan/spot/experience_light.csv')\n",
    "df_review = pd.read_csv('/home/yamanishi/project/trip_recommend/data/jalan/review/review_all_period_.csv')"
   ]
  },
  {
   "cell_type": "code",
   "execution_count": 3,
   "metadata": {},
   "outputs": [
    {
     "name": "stderr",
     "output_type": "stream",
     "text": [
      "100%|██████████| 3565959/3565959 [00:06<00:00, 532736.61it/s]\n",
      "100%|██████████| 3565959/3565959 [00:57<00:00, 62186.46it/s] \n"
     ]
    }
   ],
   "source": [
    "from datetime import datetime\n",
    "from tqdm import tqdm\n",
    "tqdm.pandas()\n",
    "def correct_time(time):\n",
    "    time = time[:time.index('月')+1]\n",
    "    return time\n",
    "def to_datetime(time):\n",
    "    return datetime.strptime(time, '%Y年%m月')\n",
    "df_review['visit_time_correct'] = df_review['visit_time'].progress_apply(correct_time)\n",
    "df_review['visit_time_correct'] = df_review['visit_time_correct'].progress_apply(to_datetime)\n"
   ]
  },
  {
   "cell_type": "code",
   "execution_count": null,
   "metadata": {},
   "outputs": [],
   "source": [
    "from collections import defaultdict\n",
    "duplicate_spots = set()\n",
    "review_series = {}\n",
    "for s in df_exp['spot_name']:\n",
    "    if s in review_series:\n",
    "        duplicate_spots.add(s)\n",
    "    review_series[s] = [0]*2\n",
    "#print(duplicate_spots)\n",
    "for s in duplicate_spots:\n",
    "    del review_series[s]\n",
    "print(len(review_series))\n",
    "\n",
    "for s,t in tqdm(zip(df_review['spot'], df_review['visit_time_correct'])):\n",
    "    if s not in duplicate_spots and s in review_series:\n",
    "        review_series[s][t.year-1950]+=1"
   ]
  },
  {
   "cell_type": "code",
   "execution_count": 4,
   "metadata": {},
   "outputs": [],
   "source": [
    "df_review_before_covid = df_review[('2019-1-1'<df_review['visit_time_correct'])&(df_review['visit_time_correct']<'2020-4-1')]"
   ]
  },
  {
   "cell_type": "code",
   "execution_count": 5,
   "metadata": {},
   "outputs": [],
   "source": [
    "df_review_after_covid = df_review[('2020-4-1'<df_review['visit_time_correct'])&(df_review['visit_time_correct']<'2021-7-1')]"
   ]
  },
  {
   "cell_type": "code",
   "execution_count": null,
   "metadata": {},
   "outputs": [],
   "source": []
  },
  {
   "cell_type": "code",
   "execution_count": 55,
   "metadata": {},
   "outputs": [
    {
     "name": "stdout",
     "output_type": "stream",
     "text": [
      "229024\n",
      "85041\n"
     ]
    }
   ],
   "source": [
    "print(len(df_review_before_covid))\n",
    "print(len(df_review_after_covid))"
   ]
  },
  {
   "cell_type": "code",
   "execution_count": null,
   "metadata": {},
   "outputs": [],
   "source": [
    "df_reivew_before_covid['series']"
   ]
  },
  {
   "cell_type": "code",
   "execution_count": 7,
   "metadata": {},
   "outputs": [
    {
     "name": "stdout",
     "output_type": "stream",
     "text": [
      "41963\n"
     ]
    },
    {
     "name": "stderr",
     "output_type": "stream",
     "text": [
      "3565959it [00:10, 339796.98it/s]\n"
     ]
    }
   ],
   "source": [
    "from collections import defaultdict\n",
    "duplicate_spots = set()\n",
    "review_series = {}\n",
    "for s in df_exp['spot_name']:\n",
    "    if s in review_series:\n",
    "        duplicate_spots.add(s)\n",
    "    review_series[s] = [0]*73\n",
    "#print(duplicate_spots)\n",
    "for s in duplicate_spots:\n",
    "    del review_series[s]\n",
    "print(len(review_series))\n",
    "\n",
    "for s,t in tqdm(zip(df_review['spot'], df_review['visit_time_correct'])):\n",
    "    if s not in duplicate_spots and s in review_series:\n",
    "        review_series[s][t.year-1950]+=1"
   ]
  },
  {
   "cell_type": "code",
   "execution_count": 8,
   "metadata": {},
   "outputs": [
    {
     "data": {
      "text/html": [
       "<div>\n",
       "<style scoped>\n",
       "    .dataframe tbody tr th:only-of-type {\n",
       "        vertical-align: middle;\n",
       "    }\n",
       "\n",
       "    .dataframe tbody tr th {\n",
       "        vertical-align: top;\n",
       "    }\n",
       "\n",
       "    .dataframe thead th {\n",
       "        text-align: right;\n",
       "    }\n",
       "</style>\n",
       "<table border=\"1\" class=\"dataframe\">\n",
       "  <thead>\n",
       "    <tr style=\"text-align: right;\">\n",
       "      <th></th>\n",
       "      <th>0</th>\n",
       "      <th>1</th>\n",
       "      <th>2</th>\n",
       "      <th>3</th>\n",
       "      <th>4</th>\n",
       "      <th>5</th>\n",
       "      <th>6</th>\n",
       "      <th>7</th>\n",
       "      <th>8</th>\n",
       "      <th>9</th>\n",
       "      <th>...</th>\n",
       "      <th>63</th>\n",
       "      <th>64</th>\n",
       "      <th>65</th>\n",
       "      <th>66</th>\n",
       "      <th>67</th>\n",
       "      <th>68</th>\n",
       "      <th>69</th>\n",
       "      <th>70</th>\n",
       "      <th>71</th>\n",
       "      <th>72</th>\n",
       "    </tr>\n",
       "  </thead>\n",
       "  <tbody>\n",
       "    <tr>\n",
       "      <th>函館山</th>\n",
       "      <td>0</td>\n",
       "      <td>0</td>\n",
       "      <td>0</td>\n",
       "      <td>0</td>\n",
       "      <td>0</td>\n",
       "      <td>0</td>\n",
       "      <td>0</td>\n",
       "      <td>0</td>\n",
       "      <td>0</td>\n",
       "      <td>0</td>\n",
       "      <td>...</td>\n",
       "      <td>448</td>\n",
       "      <td>800</td>\n",
       "      <td>729</td>\n",
       "      <td>1048</td>\n",
       "      <td>569</td>\n",
       "      <td>288</td>\n",
       "      <td>138</td>\n",
       "      <td>24</td>\n",
       "      <td>30</td>\n",
       "      <td>34</td>\n",
       "    </tr>\n",
       "    <tr>\n",
       "      <th>旭山動物園</th>\n",
       "      <td>0</td>\n",
       "      <td>0</td>\n",
       "      <td>0</td>\n",
       "      <td>0</td>\n",
       "      <td>0</td>\n",
       "      <td>0</td>\n",
       "      <td>0</td>\n",
       "      <td>0</td>\n",
       "      <td>0</td>\n",
       "      <td>0</td>\n",
       "      <td>...</td>\n",
       "      <td>384</td>\n",
       "      <td>761</td>\n",
       "      <td>624</td>\n",
       "      <td>814</td>\n",
       "      <td>458</td>\n",
       "      <td>272</td>\n",
       "      <td>102</td>\n",
       "      <td>48</td>\n",
       "      <td>26</td>\n",
       "      <td>38</td>\n",
       "    </tr>\n",
       "    <tr>\n",
       "      <th>六花亭本店</th>\n",
       "      <td>0</td>\n",
       "      <td>0</td>\n",
       "      <td>0</td>\n",
       "      <td>0</td>\n",
       "      <td>0</td>\n",
       "      <td>0</td>\n",
       "      <td>0</td>\n",
       "      <td>0</td>\n",
       "      <td>0</td>\n",
       "      <td>0</td>\n",
       "      <td>...</td>\n",
       "      <td>102</td>\n",
       "      <td>263</td>\n",
       "      <td>318</td>\n",
       "      <td>402</td>\n",
       "      <td>225</td>\n",
       "      <td>150</td>\n",
       "      <td>97</td>\n",
       "      <td>48</td>\n",
       "      <td>30</td>\n",
       "      <td>26</td>\n",
       "    </tr>\n",
       "    <tr>\n",
       "      <th>神威岬</th>\n",
       "      <td>0</td>\n",
       "      <td>0</td>\n",
       "      <td>0</td>\n",
       "      <td>0</td>\n",
       "      <td>0</td>\n",
       "      <td>0</td>\n",
       "      <td>0</td>\n",
       "      <td>0</td>\n",
       "      <td>0</td>\n",
       "      <td>0</td>\n",
       "      <td>...</td>\n",
       "      <td>76</td>\n",
       "      <td>151</td>\n",
       "      <td>162</td>\n",
       "      <td>236</td>\n",
       "      <td>115</td>\n",
       "      <td>67</td>\n",
       "      <td>36</td>\n",
       "      <td>13</td>\n",
       "      <td>12</td>\n",
       "      <td>11</td>\n",
       "    </tr>\n",
       "    <tr>\n",
       "      <th>ニトリ観光果樹園</th>\n",
       "      <td>0</td>\n",
       "      <td>0</td>\n",
       "      <td>0</td>\n",
       "      <td>0</td>\n",
       "      <td>0</td>\n",
       "      <td>0</td>\n",
       "      <td>0</td>\n",
       "      <td>0</td>\n",
       "      <td>0</td>\n",
       "      <td>0</td>\n",
       "      <td>...</td>\n",
       "      <td>2</td>\n",
       "      <td>1</td>\n",
       "      <td>6</td>\n",
       "      <td>5</td>\n",
       "      <td>5</td>\n",
       "      <td>3</td>\n",
       "      <td>1</td>\n",
       "      <td>7</td>\n",
       "      <td>4</td>\n",
       "      <td>9</td>\n",
       "    </tr>\n",
       "  </tbody>\n",
       "</table>\n",
       "<p>5 rows × 73 columns</p>\n",
       "</div>"
      ],
      "text/plain": [
       "          0   1   2   3   4   5   6   7   8   9   ...   63   64   65    66  \\\n",
       "函館山        0   0   0   0   0   0   0   0   0   0  ...  448  800  729  1048   \n",
       "旭山動物園      0   0   0   0   0   0   0   0   0   0  ...  384  761  624   814   \n",
       "六花亭本店      0   0   0   0   0   0   0   0   0   0  ...  102  263  318   402   \n",
       "神威岬        0   0   0   0   0   0   0   0   0   0  ...   76  151  162   236   \n",
       "ニトリ観光果樹園   0   0   0   0   0   0   0   0   0   0  ...    2    1    6     5   \n",
       "\n",
       "           67   68   69  70  71  72  \n",
       "函館山       569  288  138  24  30  34  \n",
       "旭山動物園     458  272  102  48  26  38  \n",
       "六花亭本店     225  150   97  48  30  26  \n",
       "神威岬       115   67   36  13  12  11  \n",
       "ニトリ観光果樹園    5    3    1   7   4   9  \n",
       "\n",
       "[5 rows x 73 columns]"
      ]
     },
     "execution_count": 8,
     "metadata": {},
     "output_type": "execute_result"
    }
   ],
   "source": [
    "df_tmp = pd.DataFrame.from_dict(review_series, orient='index')\n",
    "df_tmp.head()"
   ]
  },
  {
   "cell_type": "code",
   "execution_count": 9,
   "metadata": {},
   "outputs": [],
   "source": [
    "df_tmp.columns =df_tmp.columns+1950"
   ]
  },
  {
   "cell_type": "code",
   "execution_count": 10,
   "metadata": {},
   "outputs": [
    {
     "data": {
      "text/html": [
       "<div>\n",
       "<style scoped>\n",
       "    .dataframe tbody tr th:only-of-type {\n",
       "        vertical-align: middle;\n",
       "    }\n",
       "\n",
       "    .dataframe tbody tr th {\n",
       "        vertical-align: top;\n",
       "    }\n",
       "\n",
       "    .dataframe thead th {\n",
       "        text-align: right;\n",
       "    }\n",
       "</style>\n",
       "<table border=\"1\" class=\"dataframe\">\n",
       "  <thead>\n",
       "    <tr style=\"text-align: right;\">\n",
       "      <th></th>\n",
       "      <th>2005</th>\n",
       "      <th>2006</th>\n",
       "      <th>2007</th>\n",
       "      <th>2008</th>\n",
       "      <th>2009</th>\n",
       "      <th>2010</th>\n",
       "      <th>2011</th>\n",
       "      <th>2012</th>\n",
       "      <th>2013</th>\n",
       "      <th>2014</th>\n",
       "      <th>2015</th>\n",
       "      <th>2016</th>\n",
       "      <th>2017</th>\n",
       "      <th>2018</th>\n",
       "      <th>2019</th>\n",
       "      <th>2020</th>\n",
       "      <th>2021</th>\n",
       "      <th>2022</th>\n",
       "    </tr>\n",
       "  </thead>\n",
       "  <tbody>\n",
       "    <tr>\n",
       "      <th>函館山</th>\n",
       "      <td>1</td>\n",
       "      <td>0</td>\n",
       "      <td>4</td>\n",
       "      <td>9</td>\n",
       "      <td>191</td>\n",
       "      <td>240</td>\n",
       "      <td>224</td>\n",
       "      <td>307</td>\n",
       "      <td>448</td>\n",
       "      <td>800</td>\n",
       "      <td>729</td>\n",
       "      <td>1048</td>\n",
       "      <td>569</td>\n",
       "      <td>288</td>\n",
       "      <td>138</td>\n",
       "      <td>24</td>\n",
       "      <td>30</td>\n",
       "      <td>34</td>\n",
       "    </tr>\n",
       "    <tr>\n",
       "      <th>旭山動物園</th>\n",
       "      <td>0</td>\n",
       "      <td>0</td>\n",
       "      <td>9</td>\n",
       "      <td>23</td>\n",
       "      <td>165</td>\n",
       "      <td>245</td>\n",
       "      <td>214</td>\n",
       "      <td>280</td>\n",
       "      <td>384</td>\n",
       "      <td>761</td>\n",
       "      <td>624</td>\n",
       "      <td>814</td>\n",
       "      <td>458</td>\n",
       "      <td>272</td>\n",
       "      <td>102</td>\n",
       "      <td>48</td>\n",
       "      <td>26</td>\n",
       "      <td>38</td>\n",
       "    </tr>\n",
       "    <tr>\n",
       "      <th>六花亭本店</th>\n",
       "      <td>0</td>\n",
       "      <td>0</td>\n",
       "      <td>1</td>\n",
       "      <td>6</td>\n",
       "      <td>41</td>\n",
       "      <td>66</td>\n",
       "      <td>65</td>\n",
       "      <td>71</td>\n",
       "      <td>102</td>\n",
       "      <td>263</td>\n",
       "      <td>318</td>\n",
       "      <td>402</td>\n",
       "      <td>225</td>\n",
       "      <td>150</td>\n",
       "      <td>97</td>\n",
       "      <td>48</td>\n",
       "      <td>30</td>\n",
       "      <td>26</td>\n",
       "    </tr>\n",
       "    <tr>\n",
       "      <th>神威岬</th>\n",
       "      <td>0</td>\n",
       "      <td>0</td>\n",
       "      <td>1</td>\n",
       "      <td>2</td>\n",
       "      <td>29</td>\n",
       "      <td>25</td>\n",
       "      <td>29</td>\n",
       "      <td>37</td>\n",
       "      <td>76</td>\n",
       "      <td>151</td>\n",
       "      <td>162</td>\n",
       "      <td>236</td>\n",
       "      <td>115</td>\n",
       "      <td>67</td>\n",
       "      <td>36</td>\n",
       "      <td>13</td>\n",
       "      <td>12</td>\n",
       "      <td>11</td>\n",
       "    </tr>\n",
       "    <tr>\n",
       "      <th>ニトリ観光果樹園</th>\n",
       "      <td>0</td>\n",
       "      <td>0</td>\n",
       "      <td>0</td>\n",
       "      <td>0</td>\n",
       "      <td>0</td>\n",
       "      <td>0</td>\n",
       "      <td>2</td>\n",
       "      <td>1</td>\n",
       "      <td>2</td>\n",
       "      <td>1</td>\n",
       "      <td>6</td>\n",
       "      <td>5</td>\n",
       "      <td>5</td>\n",
       "      <td>3</td>\n",
       "      <td>1</td>\n",
       "      <td>7</td>\n",
       "      <td>4</td>\n",
       "      <td>9</td>\n",
       "    </tr>\n",
       "  </tbody>\n",
       "</table>\n",
       "</div>"
      ],
      "text/plain": [
       "          2005  2006  2007  2008  2009  2010  2011  2012  2013  2014  2015  \\\n",
       "函館山          1     0     4     9   191   240   224   307   448   800   729   \n",
       "旭山動物園        0     0     9    23   165   245   214   280   384   761   624   \n",
       "六花亭本店        0     0     1     6    41    66    65    71   102   263   318   \n",
       "神威岬          0     0     1     2    29    25    29    37    76   151   162   \n",
       "ニトリ観光果樹園     0     0     0     0     0     0     2     1     2     1     6   \n",
       "\n",
       "          2016  2017  2018  2019  2020  2021  2022  \n",
       "函館山       1048   569   288   138    24    30    34  \n",
       "旭山動物園      814   458   272   102    48    26    38  \n",
       "六花亭本店      402   225   150    97    48    30    26  \n",
       "神威岬        236   115    67    36    13    12    11  \n",
       "ニトリ観光果樹園     5     5     3     1     7     4     9  "
      ]
     },
     "execution_count": 10,
     "metadata": {},
     "output_type": "execute_result"
    }
   ],
   "source": [
    "df_tmp.loc[:, 2005:].head()"
   ]
  },
  {
   "cell_type": "code",
   "execution_count": 11,
   "metadata": {},
   "outputs": [
    {
     "data": {
      "text/plain": [
       "20003"
      ]
     },
     "execution_count": 11,
     "metadata": {},
     "output_type": "execute_result"
    }
   ],
   "source": [
    "cand = set()\n",
    "for s, r0,r1,r2 in zip(df_tmp.index, df_tmp[2010], df_tmp[2011], df_tmp[2012]):\n",
    "    if r0+r1+r2>0:\n",
    "        cand.add(s)\n",
    "len(cand)"
   ]
  },
  {
   "cell_type": "code",
   "execution_count": 12,
   "metadata": {},
   "outputs": [],
   "source": [
    "df_tmp['spot_name'] = df_tmp.index"
   ]
  },
  {
   "cell_type": "code",
   "execution_count": 22,
   "metadata": {},
   "outputs": [
    {
     "name": "stdout",
     "output_type": "stream",
     "text": [
      "20003\n",
      "函館山                  4003\n",
      "旭山動物園                3519\n",
      "六花亭本店                1335\n",
      "神威岬                   749\n",
      "ニトリ観光果樹園               17\n",
      "                     ... \n",
      "鍋島陣屋跡                   8\n",
      "前浜海水浴場（長崎県南島原市）        10\n",
      "【2021年度中止】半元キャンプ場       4\n",
      "ドンドン渕                   4\n",
      "対馬藩お船江跡                 5\n",
      "Length: 20003, dtype: int64\n",
      "6062\n",
      "5570\n",
      "4830 1321 13049 803\n"
     ]
    },
    {
     "name": "stderr",
     "output_type": "stream",
     "text": [
      "/home/yamanishi/.pyenv/versions/miniconda3-latest/envs/study_group/lib/python3.7/site-packages/ipykernel_launcher.py:7: FutureWarning: Dropping of nuisance columns in DataFrame reductions (with 'numeric_only=None') is deprecated; in a future version this will raise TypeError.  Select only valid columns before calling the reduction.\n",
      "  import sys\n"
     ]
    }
   ],
   "source": [
    "th_year = 2016\n",
    "df_cand = df_tmp[df_tmp['spot_name'].isin(cand)]\n",
    "print(len(df_cand))\n",
    "df_tmp_before = df_cand.loc[:, :th_year]\n",
    "df_tmp_after = df_cand.loc[:, th_year:]\n",
    "df_before_sum=df_tmp_before.sum(axis=1)\n",
    "df_after_sum = df_tmp_after.sum(axis=1)\n",
    "th=50\n",
    "print(df_before_sum)\n",
    "print(len(df_before_sum[df_before_sum>th]))\n",
    "print(len(df_before_sum[df_after_sum>th]))\n",
    "before_popular_spots = set(df_before_sum[df_before_sum>=th].index)\n",
    "before_unpopular_spots = set(df_before_sum[df_before_sum<th].index)\n",
    "after_popular_spots = set(df_after_sum[df_after_sum>=th].index)\n",
    "after_unpopular_spots = set(df_after_sum[df_after_sum<th].index)\n",
    "pp=(before_popular_spots&after_popular_spots)\n",
    "pu=(before_popular_spots&after_unpopular_spots)\n",
    "uu=(before_unpopular_spots&after_unpopular_spots)\n",
    "up=(before_unpopular_spots&after_popular_spots)\n",
    "print(len(pp), len(pu), len(uu), len(up))"
   ]
  },
  {
   "cell_type": "code",
   "execution_count": 14,
   "metadata": {},
   "outputs": [],
   "source": [
    "spot_idx = {spot:i for i,spot in enumerate(df_exp['spot_name'])}"
   ]
  },
  {
   "cell_type": "code",
   "execution_count": 15,
   "metadata": {},
   "outputs": [],
   "source": [
    "mask = [False]*len(df_exp)\n",
    "label = [-1]*len(df_exp)\n",
    "for s in uu:\n",
    "    id = spot_idx[s]\n",
    "    mask[id] = True\n",
    "    label[id] = 0\n",
    "for s in up:\n",
    "    id = spot_idx[s]\n",
    "    mask[id] = True\n",
    "    label[id] = 1\n",
    "for s in pu:\n",
    "    id = spot_idx[s]\n",
    "    mask[id] = True\n",
    "    label[id]= 2\n",
    "\n",
    "for s in pp:\n",
    "    id = spot_idx[s]\n",
    "    mask[id] = True\n",
    "    label[id] = 3"
   ]
  },
  {
   "cell_type": "code",
   "execution_count": 16,
   "metadata": {},
   "outputs": [],
   "source": [
    "np.save('/home/yamanishi/project/trip_recommend/model/popularity_final/data/mask.npy', mask)\n",
    "np.save('/home/yamanishi/project/trip_recommend/model/popularity_final/data/label.npy', label)"
   ]
  },
  {
   "cell_type": "code",
   "execution_count": 17,
   "metadata": {},
   "outputs": [
    {
     "name": "stdout",
     "output_type": "stream",
     "text": [
      "20003\n"
     ]
    }
   ],
   "source": [
    "import numpy as np\n",
    "from sklearn.model_selection import StratifiedKFold\n",
    "label = np.load('/home/yamanishi/project/trip_recommend/model/popularity_final/data/label.npy')\n",
    "label_ = label[label!=-1]\n",
    "print(len(label_))\n",
    "skf = StratifiedKFold(n_splits=10, shuffle=True)\n",
    "split=np.array([0]*len(label_))\n",
    "for i,(train_index, test_index) in enumerate(skf.split(label_, label_)):\n",
    "    split[test_index]=i"
   ]
  },
  {
   "cell_type": "code",
   "execution_count": 18,
   "metadata": {},
   "outputs": [],
   "source": [
    "np.save('/home/yamanishi/project/trip_recommend/model/popularity_final/data/split.npy', split)"
   ]
  },
  {
   "cell_type": "code",
   "execution_count": 19,
   "metadata": {},
   "outputs": [],
   "source": [
    "label=np.load('/home/yamanishi/project/trip_recommend/model/popularity_final/data/label.npy')"
   ]
  },
  {
   "cell_type": "code",
   "execution_count": 32,
   "metadata": {},
   "outputs": [
    {
     "data": {
      "text/plain": [
       "1"
      ]
     },
     "execution_count": 32,
     "metadata": {},
     "output_type": "execute_result"
    }
   ],
   "source": [
    "mask=np.load('/home/yamanishi/project/trip_recommend/model/popularity_final/data/mask.npy')\n",
    "split=np.load('/home/yamanishi/project/trip_recommend/model/popularity_final/data/split.npy')\n"
   ]
  },
  {
   "cell_type": "code",
   "execution_count": 45,
   "metadata": {},
   "outputs": [],
   "source": [
    "train_mask = mask.nonzero()[0][split>1]\n",
    "valid_mask = mask.nonzero()[0][split==0]\n",
    "test_mask = mask.nonzero()[0][split==1]\n",
    "np.save('/home/yamanishi/project/trip_recommend/model/popularity_final/data/train_mask.npy', train_mask)\n",
    "np.save('/home/yamanishi/project/trip_recommend/model/popularity_final/data/valid_mask.npy', valid_mask)\n",
    "np.save('/home/yamanishi/project/trip_recommend/model/popularity_final/data/test_mask.npy', test_mask)"
   ]
  },
  {
   "cell_type": "code",
   "execution_count": 48,
   "metadata": {},
   "outputs": [
    {
     "data": {
      "text/plain": [
       "array([    1,     2,    27, ..., 42776, 42820, 42848])"
      ]
     },
     "execution_count": 48,
     "metadata": {},
     "output_type": "execute_result"
    }
   ],
   "source": [
    "np.load('/home/yamanishi/project/trip_recommend/model/popularity_final/data/test_mask.npy')"
   ]
  },
  {
   "cell_type": "code",
   "execution_count": null,
   "metadata": {},
   "outputs": [],
   "source": []
  }
 ],
 "metadata": {
  "kernelspec": {
   "display_name": "study_group",
   "language": "python",
   "name": "python3"
  },
  "language_info": {
   "codemirror_mode": {
    "name": "ipython",
    "version": 3
   },
   "file_extension": ".py",
   "mimetype": "text/x-python",
   "name": "python",
   "nbconvert_exporter": "python",
   "pygments_lexer": "ipython3",
   "version": "3.7.13"
  },
  "orig_nbformat": 4,
  "vscode": {
   "interpreter": {
    "hash": "7a865c41608e708ace9ed6e40a66ff8f45d4fe73a2fce76e3bb9141e87d20f44"
   }
  }
 },
 "nbformat": 4,
 "nbformat_minor": 2
}
