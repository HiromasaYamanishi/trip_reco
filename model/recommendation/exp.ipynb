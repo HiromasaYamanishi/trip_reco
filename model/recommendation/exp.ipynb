{
 "cells": [
  {
   "cell_type": "code",
   "execution_count": 5,
   "metadata": {},
   "outputs": [],
   "source": [
    "from recommendation import get_data\n",
    "data = get_data(category=True, city=True, prefecture=True)"
   ]
  },
  {
   "cell_type": "code",
   "execution_count": 6,
   "metadata": {},
   "outputs": [
    {
     "data": {
      "text/plain": [
       "HeteroData(\n",
       "  (city, cityadj, city)=[2, 8445],\n",
       "  \u001b[1mspot\u001b[0m={\n",
       "    train_mask=[42852],\n",
       "    valid_mask=[42852],\n",
       "    test_mask=[42852],\n",
       "    y=[42852],\n",
       "    x=[42852, 512]\n",
       "  },\n",
       "  \u001b[1mword\u001b[0m={ x=[68340, 600] },\n",
       "  \u001b[1mcategory\u001b[0m={ x=[290, 290] },\n",
       "  \u001b[1mcity\u001b[0m={\n",
       "    x=[1709, 12],\n",
       "    y=[1709],\n",
       "    train_mask=[1709],\n",
       "    valid_mask=[1709],\n",
       "    test_mask=[1709]\n",
       "  },\n",
       "  \u001b[1mpref\u001b[0m={\n",
       "    x=[47, 32],\n",
       "    y=[47],\n",
       "    train_mask=[47],\n",
       "    valid_mask=[47],\n",
       "    test_mask=[47]\n",
       "  },\n",
       "  \u001b[1muser\u001b[0m={\n",
       "    x=[28251, 128],\n",
       "    user_pos=[2146716],\n",
       "    user_neg=[2146716],\n",
       "    item_pos=[2146716],\n",
       "    item_neg=[2146716]\n",
       "  },\n",
       "  \u001b[1m(spot, relate, word)\u001b[0m={ edge_index=[2, 642780] },\n",
       "  \u001b[1m(word, revrelate, spot)\u001b[0m={ edge_index=[2, 642780] },\n",
       "  \u001b[1m(spot, has, category)\u001b[0m={ edge_index=[2, 94658] },\n",
       "  \u001b[1m(category, revhas, spot)\u001b[0m={ edge_index=[2, 94658] },\n",
       "  \u001b[1m(spot, belongs, city)\u001b[0m={ edge_index=[2, 42852] },\n",
       "  \u001b[1m(city, revbelong, spot)\u001b[0m={ edge_index=[2, 42852] },\n",
       "  \u001b[1m(pref, prefadj, pref)\u001b[0m={ edge_index=[2, 172] },\n",
       "  \u001b[1m(city, belong, pref)\u001b[0m={ edge_index=[2, 1991] },\n",
       "  \u001b[1m(pref, rebelong, city)\u001b[0m={ edge_index=[2, 1991] },\n",
       "  \u001b[1m(user, visit, spot)\u001b[0m={ edge_index=[2, 2146716] },\n",
       "  \u001b[1m(spot, revvisit, user)\u001b[0m={ edge_index=[2, 2146716] }\n",
       ")"
      ]
     },
     "execution_count": 6,
     "metadata": {},
     "output_type": "execute_result"
    }
   ],
   "source": [
    "data"
   ]
  },
  {
   "cell_type": "code",
   "execution_count": 26,
   "metadata": {},
   "outputs": [
    {
     "name": "stdout",
     "output_type": "stream",
     "text": [
      "[tensor([[0.2804, 0.7629, 0.5385],\n",
      "        [0.6592, 0.8089, 0.4567]]), tensor([[0.6985, 0.2272, 0.7313],\n",
      "        [0.3959, 0.5283, 0.0289]]), tensor([[0.4874, 0.2388, 0.7617],\n",
      "        [0.7477, 0.3847, 0.7999]])]\n"
     ]
    },
    {
     "data": {
      "text/plain": [
       "tensor([[0.4888, 0.4096, 0.6771],\n",
       "        [0.6009, 0.5740, 0.4285]])"
      ]
     },
     "execution_count": 26,
     "metadata": {},
     "output_type": "execute_result"
    }
   ],
   "source": [
    "a = [torch.rand(2,3), torch.rand(2,3), torch.rand(2,3)]\n",
    "print(a)\n",
    "torch.stack(a, dim=1).size()\n",
    "torch.mean(torch.stack(a, dim=1), dim=1)"
   ]
  },
  {
   "cell_type": "code",
   "execution_count": 12,
   "metadata": {},
   "outputs": [
    {
     "data": {
      "text/html": [
       "<div>\n",
       "<style scoped>\n",
       "    .dataframe tbody tr th:only-of-type {\n",
       "        vertical-align: middle;\n",
       "    }\n",
       "\n",
       "    .dataframe tbody tr th {\n",
       "        vertical-align: top;\n",
       "    }\n",
       "\n",
       "    .dataframe thead th {\n",
       "        text-align: right;\n",
       "    }\n",
       "</style>\n",
       "<table border=\"1\" class=\"dataframe\">\n",
       "  <thead>\n",
       "    <tr style=\"text-align: right;\">\n",
       "      <th></th>\n",
       "      <th>recall</th>\n",
       "      <th>accuracy</th>\n",
       "      <th>best_epoch</th>\n",
       "      <th>model_type</th>\n",
       "      <th>num_layers</th>\n",
       "      <th>lr</th>\n",
       "      <th>hidden_channels</th>\n",
       "      <th>concat</th>\n",
       "      <th>loss_city_weight</th>\n",
       "      <th>loss_category_weight</th>\n",
       "      <th>city_pop_weight</th>\n",
       "      <th>spot_pop_weight</th>\n",
       "      <th>data_word</th>\n",
       "      <th>data_category</th>\n",
       "      <th>data_city</th>\n",
       "      <th>data_prefecture</th>\n",
       "      <th>Unnamed: 16</th>\n",
       "    </tr>\n",
       "  </thead>\n",
       "  <tbody>\n",
       "    <tr>\n",
       "      <th>0</th>\n",
       "      <td>0.00172</td>\n",
       "      <td>0.0021</td>\n",
       "      <td>0</td>\n",
       "      <td>hgt</td>\n",
       "      <td>5</td>\n",
       "      <td>0.002</td>\n",
       "      <td>64</td>\n",
       "      <td>False</td>\n",
       "      <td>0</td>\n",
       "      <td>0</td>\n",
       "      <td>0</td>\n",
       "      <td>0</td>\n",
       "      <td>True</td>\n",
       "      <td>True</td>\n",
       "      <td>True</td>\n",
       "      <td>True</td>\n",
       "      <td>-0.74926</td>\n",
       "    </tr>\n",
       "  </tbody>\n",
       "</table>\n",
       "</div>"
      ],
      "text/plain": [
       "    recall  accuracy  best_epoch model_type  num_layers     lr  \\\n",
       "0  0.00172    0.0021           0        hgt           5  0.002   \n",
       "\n",
       "   hidden_channels  concat  loss_city_weight  loss_category_weight  \\\n",
       "0               64   False                 0                     0   \n",
       "\n",
       "   city_pop_weight  spot_pop_weight  data_word  data_category  data_city  \\\n",
       "0                0                0       True           True       True   \n",
       "\n",
       "   data_prefecture  Unnamed: 16  \n",
       "0             True     -0.74926  "
      ]
     },
     "execution_count": 12,
     "metadata": {},
     "output_type": "execute_result"
    }
   ],
   "source": [
    "df = pd.read_csv('/home/yamanishi/project/trip_recommend/model/recommendation/result/result.csv')\n",
    "df.head()"
   ]
  },
  {
   "cell_type": "code",
   "execution_count": 4,
   "metadata": {},
   "outputs": [
    {
     "name": "stdout",
     "output_type": "stream",
     "text": [
      "tensor([[0.0439, 0.9386, 0.7579],\n",
      "        [0.7674, 0.6892, 0.6817]]) tensor([[0.1704],\n",
      "        [0.9987]])\n"
     ]
    },
    {
     "data": {
      "text/plain": [
       "tensor([[0.2576, 5.5075, 4.4471],\n",
       "        [0.7685, 0.6901, 0.6826]])"
      ]
     },
     "execution_count": 4,
     "metadata": {},
     "output_type": "execute_result"
    }
   ],
   "source": [
    "a = torch.rand(2,3)\n",
    "b = torch.rand(2).unsqueeze(1)\n",
    "print(a, b)\n",
    "torch.div(a,b)"
   ]
  },
  {
   "cell_type": "code",
   "execution_count": null,
   "metadata": {},
   "outputs": [
    {
     "data": {
      "text/plain": [
       "Embedding(10, 5)"
      ]
     },
     "execution_count": 5,
     "metadata": {},
     "output_type": "execute_result"
    }
   ],
   "source": [
    "e=torch.nn.Embedding(num_embeddings=10, embedding_dim=5)\n",
    "e.shape"
   ]
  },
  {
   "cell_type": "code",
   "execution_count": null,
   "metadata": {},
   "outputs": [],
   "source": [
    "a,b = torch.unique([1,2,1,2,3,3,1], return_counts=True)\n",
    "zero = torch.zeros(4)\n",
    "zero[a]=b"
   ]
  },
  {
   "cell_type": "code",
   "execution_count": 6,
   "metadata": {},
   "outputs": [],
   "source": [
    "from torch_geometric.nn.conv import HANConv, HGTConv\n",
    "conv = HANConv(in_channels=-1, out_channels=128, metadata=data.metadata())\n",
    "conv = HGTConv(in_channels=-1, out_channels=128, metadata=data.metadata(), heads=4, group='mean')"
   ]
  },
  {
   "cell_type": "code",
   "execution_count": 15,
   "metadata": {},
   "outputs": [
    {
     "data": {
      "text/plain": [
       "{'spot': tensor([[-0.0288, -0.0596,  0.0634,  ...,  0.0194,  0.0320,  0.0303],\n",
       "         [-0.0655, -0.0652,  0.0009,  ...,  0.0245,  0.0261,  0.0752],\n",
       "         [ 0.0032, -0.0506,  0.0455,  ..., -0.0364, -0.0711,  0.0404],\n",
       "         ...,\n",
       "         [-0.0679, -0.0551,  0.0629,  ..., -0.0462,  0.0336,  0.0534],\n",
       "         [-0.0356, -0.0256,  0.0379,  ..., -0.0378,  0.0169,  0.0432],\n",
       "         [-0.0527, -0.0557,  0.0059,  ..., -0.0278,  0.0228, -0.0088]],\n",
       "        device='cuda:0', grad_fn=<AddmmBackward0>),\n",
       " 'word': tensor([[-1.9727e-01,  9.5084e-04, -3.6135e-03,  ...,  8.4128e-03,\n",
       "           1.4423e-01,  1.6481e-01],\n",
       "         [-4.8239e-01,  3.6992e-01, -1.3637e-01,  ..., -4.3266e-01,\n",
       "           5.1114e-01,  4.1980e-01],\n",
       "         [-6.1266e-02,  2.3281e-01,  2.4414e-01,  ..., -1.4070e-01,\n",
       "           2.7913e-01,  2.4021e-01],\n",
       "         ...,\n",
       "         [-1.5504e-01,  1.2582e-01,  3.5365e-02,  ...,  3.5207e-02,\n",
       "           1.3466e-01,  9.7789e-02],\n",
       "         [-3.3779e-01,  1.4885e-01,  3.5253e-04,  ..., -1.0494e-01,\n",
       "           2.4108e-01,  2.9037e-01],\n",
       "         [-3.7264e-01, -6.7972e-02, -1.1386e-01,  ..., -2.3530e-02,\n",
       "           1.6451e-01,  1.6476e-01]], device='cuda:0', grad_fn=<AddmmBackward0>),\n",
       " 'category': tensor([[ 0.0495, -0.1097, -0.1559,  ..., -0.0381, -0.0797, -0.0710],\n",
       "         [ 0.0613, -0.0997, -0.1573,  ..., -0.0401, -0.0685, -0.0766],\n",
       "         [ 0.0392, -0.1532, -0.2028,  ..., -0.0118, -0.1524, -0.0801],\n",
       "         ...,\n",
       "         [ 0.0352, -0.1832, -0.2957,  ...,  0.0090, -0.2266, -0.0007],\n",
       "         [-0.0070,  0.1019, -0.1172,  ..., -0.0292,  0.1018, -0.0442],\n",
       "         [-0.0140, -0.1229, -0.2420,  ..., -0.0004, -0.2959, -0.1905]],\n",
       "        device='cuda:0', grad_fn=<AddmmBackward0>),\n",
       " 'city': tensor([[ 0.0328,  0.0161, -0.1453,  ..., -0.5576, -0.3054,  0.4657],\n",
       "         [ 0.0328,  0.0213, -0.1397,  ..., -0.5694, -0.3263,  0.4651],\n",
       "         [ 0.0278,  0.0093, -0.1386,  ..., -0.5517, -0.3001,  0.4496],\n",
       "         ...,\n",
       "         [-0.1347,  0.0478, -0.1412,  ...,  0.1227, -0.0351, -0.0502],\n",
       "         [-0.1336,  0.0523, -0.0978,  ...,  0.1348, -0.0130, -0.0577],\n",
       "         [-0.1355,  0.0762, -0.1026,  ...,  0.1237, -0.0133, -0.0774]],\n",
       "        device='cuda:0', grad_fn=<AddmmBackward0>),\n",
       " 'pref': tensor([[ 0.0073,  0.0769,  0.0995,  ...,  0.0829,  0.0330,  0.0058],\n",
       "         [ 0.0210,  0.1089,  0.1303,  ...,  0.1562,  0.0681,  0.0079],\n",
       "         [ 0.0220,  0.1446,  0.1093,  ...,  0.1671,  0.0713, -0.0088],\n",
       "         ...,\n",
       "         [-0.0135,  0.0994,  0.1389,  ...,  0.0695,  0.0071,  0.0364],\n",
       "         [-0.0132,  0.0895,  0.1351,  ...,  0.0763, -0.0041,  0.0263],\n",
       "         [ 0.0073,  0.0769,  0.0995,  ...,  0.0829,  0.0330,  0.0058]],\n",
       "        device='cuda:0', grad_fn=<AddmmBackward0>),\n",
       " 'user': tensor([[ 0.3736,  0.2245,  0.2194,  ...,  0.0921,  0.0496,  0.2695],\n",
       "         [ 0.2076,  0.2346,  0.4196,  ..., -0.1019,  0.2494,  0.1900],\n",
       "         [ 0.3117,  0.2745,  0.2168,  ..., -0.0075,  0.2386,  0.1758],\n",
       "         ...,\n",
       "         [ 0.1663,  0.0923,  0.2790,  ...,  0.1148,  0.2970,  0.1021],\n",
       "         [ 0.2276,  0.0389,  0.4117,  ...,  0.0136,  0.1172,  0.2376],\n",
       "         [ 0.0577,  0.1364,  0.1584,  ...,  0.0273,  0.2344,  0.2192]],\n",
       "        device='cuda:0', grad_fn=<AddBackward0>)}"
      ]
     },
     "execution_count": 15,
     "metadata": {},
     "output_type": "execute_result"
    }
   ],
   "source": [
    "device = 'cuda:0'\n",
    "data.to(device)\n",
    "conv.to(device)\n",
    "conv(data.x_dict, data.edge_index_dict)"
   ]
  },
  {
   "cell_type": "code",
   "execution_count": 1,
   "metadata": {},
   "outputs": [
    {
     "data": {
      "text/plain": [
       "'True'"
      ]
     },
     "execution_count": 1,
     "metadata": {},
     "output_type": "execute_result"
    }
   ],
   "source": [
    "str(True)"
   ]
  },
  {
   "cell_type": "code",
   "execution_count": 4,
   "metadata": {},
   "outputs": [
    {
     "data": {
      "text/plain": [
       "HeteroData(\n",
       "  \u001b[1mspot\u001b[0m={\n",
       "    train_mask=[42852],\n",
       "    valid_mask=[42852],\n",
       "    test_mask=[42852],\n",
       "    y=[42852],\n",
       "    x=[42852, 512]\n",
       "  },\n",
       "  \u001b[1mword\u001b[0m={ x=[68340, 600] },\n",
       "  \u001b[1muser\u001b[0m={\n",
       "    x=[28251, 128],\n",
       "    user_pos=[2146716],\n",
       "    user_neg=[2146716],\n",
       "    item_pos=[2146716],\n",
       "    item_neg=[2146716]\n",
       "  },\n",
       "  \u001b[1m(spot, relate, word)\u001b[0m={ edge_index=[2, 642780] },\n",
       "  \u001b[1m(word, revrelate, spot)\u001b[0m={ edge_index=[2, 642780] },\n",
       "  \u001b[1m(user, visit, spot)\u001b[0m={ edge_index=[2, 2146716] },\n",
       "  \u001b[1m(spot, revvisit, user)\u001b[0m={ edge_index=[2, 2146716] }\n",
       ")"
      ]
     },
     "execution_count": 4,
     "metadata": {},
     "output_type": "execute_result"
    }
   ],
   "source": [
    "data"
   ]
  },
  {
   "cell_type": "code",
   "execution_count": 5,
   "metadata": {},
   "outputs": [
    {
     "ename": "TypeError",
     "evalue": "forward() missing 1 required positional argument: 'type_vec'",
     "output_type": "error",
     "traceback": [
      "\u001b[0;31m---------------------------------------------------------------------------\u001b[0m",
      "\u001b[0;31mTypeError\u001b[0m                                 Traceback (most recent call last)",
      "\u001b[0;32m/tmp/ipykernel_1404893/2198845325.py\u001b[0m in \u001b[0;36m<module>\u001b[0;34m\u001b[0m\n\u001b[1;32m      1\u001b[0m \u001b[0;32mfrom\u001b[0m \u001b[0mtorch_geometric\u001b[0m\u001b[0;34m.\u001b[0m\u001b[0mnn\u001b[0m \u001b[0;32mimport\u001b[0m \u001b[0mHeteroLinear\u001b[0m\u001b[0;34m\u001b[0m\u001b[0;34m\u001b[0m\u001b[0m\n\u001b[1;32m      2\u001b[0m \u001b[0mlinear\u001b[0m \u001b[0;34m=\u001b[0m \u001b[0mHeteroLinear\u001b[0m\u001b[0;34m(\u001b[0m\u001b[0;34m-\u001b[0m\u001b[0;36m1\u001b[0m\u001b[0;34m,\u001b[0m \u001b[0;36m128\u001b[0m\u001b[0;34m,\u001b[0m \u001b[0mlen\u001b[0m\u001b[0;34m(\u001b[0m\u001b[0mdata\u001b[0m\u001b[0;34m.\u001b[0m\u001b[0mx_dict\u001b[0m\u001b[0;34m.\u001b[0m\u001b[0mkeys\u001b[0m\u001b[0;34m(\u001b[0m\u001b[0;34m)\u001b[0m\u001b[0;34m)\u001b[0m\u001b[0;34m)\u001b[0m\u001b[0;34m\u001b[0m\u001b[0;34m\u001b[0m\u001b[0m\n\u001b[0;32m----> 3\u001b[0;31m \u001b[0mlinear\u001b[0m\u001b[0;34m(\u001b[0m\u001b[0mdata\u001b[0m\u001b[0;34m.\u001b[0m\u001b[0mx_dict\u001b[0m\u001b[0;34m)\u001b[0m\u001b[0;34m\u001b[0m\u001b[0;34m\u001b[0m\u001b[0m\n\u001b[0m",
      "\u001b[0;32m~/.pyenv/versions/miniconda3-latest/envs/study_group/lib/python3.7/site-packages/torch/nn/modules/module.py\u001b[0m in \u001b[0;36m_call_impl\u001b[0;34m(self, *input, **kwargs)\u001b[0m\n\u001b[1;32m   1100\u001b[0m         if not (self._backward_hooks or self._forward_hooks or self._forward_pre_hooks or _global_backward_hooks\n\u001b[1;32m   1101\u001b[0m                 or _global_forward_hooks or _global_forward_pre_hooks):\n\u001b[0;32m-> 1102\u001b[0;31m             \u001b[0;32mreturn\u001b[0m \u001b[0mforward_call\u001b[0m\u001b[0;34m(\u001b[0m\u001b[0;34m*\u001b[0m\u001b[0minput\u001b[0m\u001b[0;34m,\u001b[0m \u001b[0;34m**\u001b[0m\u001b[0mkwargs\u001b[0m\u001b[0;34m)\u001b[0m\u001b[0;34m\u001b[0m\u001b[0;34m\u001b[0m\u001b[0m\n\u001b[0m\u001b[1;32m   1103\u001b[0m         \u001b[0;31m# Do not call functions when jit is used\u001b[0m\u001b[0;34m\u001b[0m\u001b[0;34m\u001b[0m\u001b[0;34m\u001b[0m\u001b[0m\n\u001b[1;32m   1104\u001b[0m         \u001b[0mfull_backward_hooks\u001b[0m\u001b[0;34m,\u001b[0m \u001b[0mnon_full_backward_hooks\u001b[0m \u001b[0;34m=\u001b[0m \u001b[0;34m[\u001b[0m\u001b[0;34m]\u001b[0m\u001b[0;34m,\u001b[0m \u001b[0;34m[\u001b[0m\u001b[0;34m]\u001b[0m\u001b[0;34m\u001b[0m\u001b[0;34m\u001b[0m\u001b[0m\n",
      "\u001b[0;31mTypeError\u001b[0m: forward() missing 1 required positional argument: 'type_vec'"
     ]
    }
   ],
   "source": [
    "from torch_geometric.nn import HeteroLinear\n",
    "linear = HeteroLinear(-1, 128, len(data.x_dict.keys()))\n",
    "linear(data.x_dict)"
   ]
  },
  {
   "cell_type": "code",
   "execution_count": 1,
   "metadata": {},
   "outputs": [],
   "source": [
    "import torch.nn as nn\n",
    "encoder_layer = nn.TransformerEncoderLayer(d_model=512, nhead=8)\n",
    "transformer_encoder = nn.TransformerEncoder(encoder_layer, num_layers=6)\n",
    "src = torch.rand(10, 32, 512)\n",
    "out = transformer_encoder(src)"
   ]
  },
  {
   "cell_type": "code",
   "execution_count": 3,
   "metadata": {},
   "outputs": [
    {
     "data": {
      "text/plain": [
       "tensor([[[ 1.6938, -0.4604,  1.3951,  ..., -0.4941, -0.1565,  0.1207],\n",
       "         [-0.3422, -0.8063,  1.7492,  ..., -1.3343,  0.0558, -0.4790],\n",
       "         [-0.4813, -0.8356,  1.6242,  ..., -1.1597, -0.1464,  0.4727],\n",
       "         [-1.4184, -0.7773,  1.1830,  ..., -0.4891, -0.2813,  0.2164],\n",
       "         [ 0.0397, -1.0320,  2.3576,  ..., -0.6497, -0.9610, -0.2784]],\n",
       "\n",
       "        [[ 0.4420, -0.3877,  1.7163,  ..., -0.1106, -0.7346,  0.9244],\n",
       "         [-0.1781, -0.4102,  1.5294,  ...,  0.1275,  0.0566,  0.1262],\n",
       "         [-0.6370,  0.1568,  1.3207,  ..., -0.6263,  0.0112,  0.0030],\n",
       "         [-0.0536, -0.5924,  0.6969,  ...,  0.0097,  0.2753,  0.1213],\n",
       "         [ 0.1633, -0.7276,  0.8970,  ..., -1.2248,  0.3632,  0.3481]],\n",
       "\n",
       "        [[ 0.3711, -1.0998,  0.9549,  ..., -1.2546, -0.4199, -0.5805],\n",
       "         [-0.1377, -0.2571,  2.1186,  ..., -1.5979,  0.2015,  0.6335],\n",
       "         [-0.5531, -0.0821,  1.8383,  ..., -0.7377, -0.6298, -0.5093],\n",
       "         [-0.7340, -0.2288,  1.8524,  ..., -1.0687,  0.0162, -0.3630],\n",
       "         [ 0.7371, -0.9965,  1.9730,  ..., -1.2137, -0.0316,  0.0717]],\n",
       "\n",
       "        ...,\n",
       "\n",
       "        [[-0.4870,  0.0138,  2.1676,  ..., -0.2814, -0.6144,  0.2921],\n",
       "         [ 0.1980, -0.0733,  1.8731,  ..., -1.0945,  0.1359, -0.4555],\n",
       "         [-0.7795, -0.9379,  1.2111,  ..., -0.1065, -0.2139, -0.3499],\n",
       "         [-0.3763, -0.8503,  1.8444,  ..., -1.0195, -0.2007,  0.7681],\n",
       "         [-0.2902, -0.8631,  1.4756,  ..., -0.6824,  0.4965,  0.0477]],\n",
       "\n",
       "        [[ 1.0050, -1.7037,  1.3315,  ..., -1.1765, -0.3682,  0.2243],\n",
       "         [ 0.6261, -0.5859,  1.4916,  ..., -0.1692,  0.0391,  0.3627],\n",
       "         [ 0.2630, -1.2344,  1.4022,  ...,  0.0544, -0.1731,  0.2316],\n",
       "         [-0.1656, -0.7900,  1.3989,  ...,  0.1352,  0.2122, -0.3346],\n",
       "         [-1.0832, -1.0494,  0.7050,  ..., -0.7774, -0.9132, -0.3734]],\n",
       "\n",
       "        [[ 0.2282, -0.0589,  2.0781,  ...,  0.0991, -0.2499,  0.3366],\n",
       "         [-0.5337,  0.3532,  0.7976,  ..., -1.2043,  0.7101, -0.1559],\n",
       "         [-0.8075, -0.3104,  1.9782,  ..., -1.4204, -0.2532,  0.2996],\n",
       "         [-0.2494, -0.2972,  1.2792,  ..., -0.5165,  0.0572,  0.0180],\n",
       "         [-0.2853,  0.2441,  1.5665,  ..., -0.2167,  0.0788,  0.1864]]],\n",
       "       grad_fn=<NativeLayerNormBackward0>)"
      ]
     },
     "execution_count": 3,
     "metadata": {},
     "output_type": "execute_result"
    }
   ],
   "source": [
    "transformer_encoder(torch.rand(500,5,512))"
   ]
  },
  {
   "cell_type": "code",
   "execution_count": 1,
   "metadata": {},
   "outputs": [
    {
     "name": "stdout",
     "output_type": "stream",
     "text": [
      "True\n"
     ]
    }
   ],
   "source": [
    "import os\n",
    " \n",
    "isempty = os.stat('/home/yamanishi/project/trip_recommend/model/recommendation/result.csv').st_size == 0\n",
    "print(isempty)"
   ]
  },
  {
   "cell_type": "code",
   "execution_count": 3,
   "metadata": {},
   "outputs": [
    {
     "data": {
      "text/plain": [
       "0.22415"
      ]
     },
     "execution_count": 3,
     "metadata": {},
     "output_type": "execute_result"
    }
   ],
   "source": [
    "a = 0.224151533535\n",
    "round(a,5)"
   ]
  },
  {
   "cell_type": "code",
   "execution_count": 4,
   "metadata": {},
   "outputs": [
    {
     "ename": "TypeError",
     "evalue": "write() takes exactly one argument (3 given)",
     "output_type": "error",
     "traceback": [
      "\u001b[0;31m---------------------------------------------------------------------------\u001b[0m",
      "\u001b[0;31mTypeError\u001b[0m                                 Traceback (most recent call last)",
      "\u001b[0;32m/tmp/ipykernel_1678411/3764139079.py\u001b[0m in \u001b[0;36m<module>\u001b[0;34m\u001b[0m\n\u001b[1;32m      1\u001b[0m \u001b[0ma\u001b[0m\u001b[0;34m=\u001b[0m\u001b[0;34m'いなり'\u001b[0m\u001b[0;34m\u001b[0m\u001b[0;34m\u001b[0m\u001b[0m\n\u001b[1;32m      2\u001b[0m \u001b[0;32mwith\u001b[0m \u001b[0mopen\u001b[0m\u001b[0;34m(\u001b[0m\u001b[0;34m'log.txt'\u001b[0m\u001b[0;34m,\u001b[0m \u001b[0;34m'w'\u001b[0m\u001b[0;34m)\u001b[0m \u001b[0;32mas\u001b[0m \u001b[0mf\u001b[0m\u001b[0;34m:\u001b[0m\u001b[0;34m\u001b[0m\u001b[0;34m\u001b[0m\u001b[0m\n\u001b[0;32m----> 3\u001b[0;31m     \u001b[0mf\u001b[0m\u001b[0;34m.\u001b[0m\u001b[0mwrite\u001b[0m\u001b[0;34m(\u001b[0m\u001b[0;34m'train'\u001b[0m\u001b[0;34m,\u001b[0m\u001b[0;34m'max'\u001b[0m\u001b[0;34m,\u001b[0m \u001b[0ma\u001b[0m\u001b[0;34m)\u001b[0m\u001b[0;34m\u001b[0m\u001b[0;34m\u001b[0m\u001b[0m\n\u001b[0m",
      "\u001b[0;31mTypeError\u001b[0m: write() takes exactly one argument (3 given)"
     ]
    }
   ],
   "source": [
    "a=np.array(['a','b','c'])\n",
    "with open('log.txt', 'w') as f:\n",
    "    f.write('train','max', a.)"
   ]
  },
  {
   "cell_type": "code",
   "execution_count": 8,
   "metadata": {},
   "outputs": [],
   "source": [
    "import torch.nn as nn\n",
    "gru = nn.GRUCell(128,128)"
   ]
  },
  {
   "cell_type": "code",
   "execution_count": 10,
   "metadata": {},
   "outputs": [
    {
     "data": {
      "text/plain": [
       "torch.Size([512, 128])"
      ]
     },
     "execution_count": 10,
     "metadata": {},
     "output_type": "execute_result"
    }
   ],
   "source": [
    "gru(torch.rand(512,128), torch.rand(512,128)).shape"
   ]
  },
  {
   "cell_type": "code",
   "execution_count": 3,
   "metadata": {},
   "outputs": [
    {
     "name": "stdout",
     "output_type": "stream",
     "text": [
      "tensor([[0.0282, 0.8086],\n",
      "        [0.4328, 0.8383],\n",
      "        [0.5413, 0.9000]])\n",
      "tensor(1.6272)\n"
     ]
    },
    {
     "data": {
      "text/plain": [
       "tensor(2.6476)"
      ]
     },
     "execution_count": 3,
     "metadata": {},
     "output_type": "execute_result"
    }
   ],
   "source": [
    "a = torch.rand(3,2)\n",
    "print(a)\n",
    "print(a.norm(2))\n",
    "a.norm(2).pow(2)"
   ]
  },
  {
   "cell_type": "code",
   "execution_count": null,
   "metadata": {},
   "outputs": [],
   "source": []
  }
 ],
 "metadata": {
  "kernelspec": {
   "display_name": "Python 3.7.13 64-bit ('study_group')",
   "language": "python",
   "name": "python3"
  },
  "language_info": {
   "codemirror_mode": {
    "name": "ipython",
    "version": 3
   },
   "file_extension": ".py",
   "mimetype": "text/x-python",
   "name": "python",
   "nbconvert_exporter": "python",
   "pygments_lexer": "ipython3",
   "version": "3.7.13"
  },
  "orig_nbformat": 4,
  "vscode": {
   "interpreter": {
    "hash": "7a865c41608e708ace9ed6e40a66ff8f45d4fe73a2fce76e3bb9141e87d20f44"
   }
  }
 },
 "nbformat": 4,
 "nbformat_minor": 2
}
