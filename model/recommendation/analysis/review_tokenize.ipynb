{
 "cells": [
  {
   "cell_type": "code",
   "execution_count": 1,
   "metadata": {},
   "outputs": [
    {
     "name": "stderr",
     "output_type": "stream",
     "text": [
      "27094it [31:07, 14.51it/s]\n"
     ]
    }
   ],
   "source": [
    "df_train = pd.read_csv('/home/yamanishi/project/trip_recommend/model/recommendation/data/df_review_train.csv')\n",
    "from tqdm import tqdm\n",
    "df_user = pd.read_csv('/home/yamanishi/project/trip_recommend/model/recommendation/data/user_attributes.csv')\n",
    "df_user_review = df_user.copy()\n",
    "for i,url in tqdm(enumerate(df_user['url'])):\n",
    "    df_user_train = df_train[df_train['url']==url]\n",
    "    review_all = ''\n",
    "    for review in df_user_train['review']:\n",
    "        review_all+=review\n",
    "    df_user_review.loc[i, 'review'] = review_all\n",
    "\n",
    "df_user_review.head()\n",
    "df_user_review.to_csv('/home/yamanishi/project/trip_recommend/model/recommendation/data/df_user_review.csv')"
   ]
  },
  {
   "cell_type": "code",
   "execution_count": null,
   "metadata": {},
   "outputs": [],
   "source": []
  },
  {
   "cell_type": "code",
   "execution_count": 2,
   "metadata": {},
   "outputs": [],
   "source": [
    "len_review = []\n",
    "for r in df_user_review['review']:\n",
    "    len_review.append(len(r))"
   ]
  },
  {
   "cell_type": "code",
   "execution_count": 3,
   "metadata": {},
   "outputs": [
    {
     "data": {
      "text/plain": [
       "(array([2.6657e+04, 3.0400e+02, 8.0000e+01, 2.4000e+01, 8.0000e+00,\n",
       "        7.0000e+00, 3.0000e+00, 4.0000e+00, 2.0000e+00, 5.0000e+00]),\n",
       " array([2.050000e+02, 2.943430e+04, 5.866360e+04, 8.789290e+04,\n",
       "        1.171222e+05, 1.463515e+05, 1.755808e+05, 2.048101e+05,\n",
       "        2.340394e+05, 2.632687e+05, 2.924980e+05]),\n",
       " <BarContainer object of 10 artists>)"
      ]
     },
     "execution_count": 3,
     "metadata": {},
     "output_type": "execute_result"
    },
    {
     "data": {
      "image/png": "[encoded data removed]",
      "text/plain": [
       "<Figure size 432x288 with 1 Axes>"
      ]
     },
     "metadata": {
      "needs_background": "light"
     },
     "output_type": "display_data"
    }
   ],
   "source": [
    "plt.hist(np.array(len_review))"
   ]
  },
  {
   "cell_type": "code",
   "execution_count": 4,
   "metadata": {},
   "outputs": [
    {
     "name": "stderr",
     "output_type": "stream",
     "text": [
      "100%|██████████| 27094/27094 [00:27<00:00, 977.83it/s] \n"
     ]
    }
   ],
   "source": [
    "for i in tqdm(range(len(df_user_review))):\n",
    "    df_user_review.loc[i, 'review_short'] = df_user_review.loc[i, 'review'][:10000]"
   ]
  },
  {
   "cell_type": "code",
   "execution_count": 6,
   "metadata": {},
   "outputs": [
    {
     "name": "stdout",
     "output_type": "stream",
     "text": [
      "start tokenize\n"
     ]
    },
    {
     "name": "stderr",
     "output_type": "stream",
     "text": [
      "100%|██████████| 27094/27094 [2:00:23<00:00,  3.75it/s]  "
     ]
    },
    {
     "name": "stdout",
     "output_type": "stream",
     "text": [
      "end tokenize\n"
     ]
    },
    {
     "name": "stderr",
     "output_type": "stream",
     "text": [
      "\n"
     ]
    }
   ],
   "source": [
    "from janome.analyzer import Analyzer\n",
    "from janome.tokenfilter import POSKeepFilter,TokenCountFilter, CompoundNounFilter\n",
    "from janome.charfilter import RegexReplaceCharFilter, UnicodeNormalizeCharFilter\n",
    "from tqdm import tqdm\n",
    "tqdm.pandas()\n",
    "def tokenize_text(df,column='text_joined', hinshi=['名詞','形容詞','動詞']):\n",
    "    '''\n",
    "    columnのtextをトークナイズする\n",
    "    '''\n",
    "    print('start tokenize')\n",
    "    #df = self.df_experience\n",
    "    def join_nouns(text):\n",
    "        if pd.isna(text):\n",
    "            return None\n",
    "        char_filters = [\n",
    "            UnicodeNormalizeCharFilter(),\n",
    "            RegexReplaceCharFilter('[#!:;<>{}・`.,()-=$/_\\d\\'\"\\[\\]\\|年月日~]+', ' '),\n",
    "        ]\n",
    "        token_filters = [\n",
    "            POSKeepFilter(hinshi),\n",
    "            #CompoundNounFilter()\n",
    "            #TokenCountFilter(),\n",
    "        ]\n",
    "        analyzer = Analyzer(char_filters = char_filters, token_filters = token_filters)\n",
    "        token_nouns = analyzer.analyze(text)\n",
    "        token_nouns = [l.surface for l in token_nouns]\n",
    "        joint_nouns = (' ').join(token_nouns)\n",
    "        return joint_nouns\n",
    "    df['tokenized_text']=df[column].progress_apply(join_nouns)\n",
    "    #df.to_csv(self.df_experience_path)\n",
    "    #self.df_experience = df\n",
    "    print('end tokenize')\n",
    "    return df\n",
    "\n",
    "df_user_review = tokenize_text(df_user_review, column='review_short')"
   ]
  },
  {
   "cell_type": "code",
   "execution_count": 7,
   "metadata": {},
   "outputs": [],
   "source": [
    "df_user_review.to_csv('/home/yamanishi/project/trip_recommend/model/recommendation/data/df_user_review.csv')"
   ]
  },
  {
   "cell_type": "code",
   "execution_count": 13,
   "metadata": {},
   "outputs": [
    {
     "name": "stdout",
     "output_type": "stream",
     "text": [
      "start tfidf_threshold\n"
     ]
    },
    {
     "name": "stderr",
     "output_type": "stream",
     "text": [
      "/home/yamanishi/.pyenv/versions/miniconda3-latest/envs/study_group/lib/python3.7/site-packages/sklearn/utils/deprecation.py:87: FutureWarning: Function get_feature_names is deprecated; get_feature_names is deprecated in 1.0 and will be removed in 1.2. Please use get_feature_names_out instead.\n",
      "  warnings.warn(msg, category=FutureWarning)\n"
     ]
    },
    {
     "name": "stdout",
     "output_type": "stream",
     "text": [
      "['aa' 'aaa' 'ab' 'abab' 'abc']\n",
      "(2, 576417)\n",
      "end tfidf threshold\n",
      "[[    0     0     0 ... 27093 27093 27093]\n",
      " [ 3903  5739  7418 ... 45983 46051 47767]]\n"
     ]
    }
   ],
   "source": [
    "from sklearn.feature_extraction.text import TfidfVectorizer\n",
    "def tfidf_threshold(df, column='tokenized_text', threshold=0.1, save= True, return_words=False):\n",
    "    '''\n",
    "    columnの単語列をtf-idfする\n",
    "    '''\n",
    "    print('start tfidf_threshold')\n",
    "    #df = self.df_experience\n",
    "    df=df.fillna({'tokenized_text':''})\n",
    "    tfidf = TfidfVectorizer(min_df=3,max_df=0.5)\n",
    "    tfidf_vec = tfidf.fit_transform(df[column]).toarray()\n",
    "    feature_names = np.array(tfidf.get_feature_names())\n",
    "    print(feature_names[:5])\n",
    "    edges = np.array(np.where(tfidf_vec>threshold))\n",
    "    print(edges.shape)\n",
    "    print('end tfidf threshold')\n",
    "    return feature_names, edges\n",
    "\n",
    "feature_names, tfidf_words = tfidf_threshold(df_user_review)\n",
    "print(tfidf_words)"
   ]
  },
  {
   "cell_type": "code",
   "execution_count": 14,
   "metadata": {},
   "outputs": [
    {
     "data": {
      "text/plain": [
       "array(['すく', 'はずせ', 'よく', ..., '選ぶ', '那智', '青島'], dtype='<U17')"
      ]
     },
     "execution_count": 14,
     "metadata": {},
     "output_type": "execute_result"
    }
   ],
   "source": [
    "for i,w in enumerate(feature_names[tfidf_words[1]]):\n",
    "    print(w)\n"
   ]
  },
  {
   "cell_type": "code",
   "execution_count": null,
   "metadata": {},
   "outputs": [],
   "source": []
  }
 ],
 "metadata": {
  "kernelspec": {
   "display_name": "study_group",
   "language": "python",
   "name": "python3"
  },
  "language_info": {
   "codemirror_mode": {
    "name": "ipython",
    "version": 3
   },
   "file_extension": ".py",
   "mimetype": "text/x-python",
   "name": "python",
   "nbconvert_exporter": "python",
   "pygments_lexer": "ipython3",
   "version": "3.7.13"
  },
  "orig_nbformat": 4,
  "vscode": {
   "interpreter": {
    "hash": "7a865c41608e708ace9ed6e40a66ff8f45d4fe73a2fce76e3bb9141e87d20f44"
   }
  }
 },
 "nbformat": 4,
 "nbformat_minor": 2
}
