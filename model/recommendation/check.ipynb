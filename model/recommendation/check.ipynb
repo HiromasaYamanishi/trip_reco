{
 "cells": [
  {
   "cell_type": "code",
   "execution_count": 2,
   "metadata": {},
   "outputs": [
    {
     "name": "stdout",
     "output_type": "stream",
     "text": [
      "MixGCN(\n",
      "  (user_embedding): Embedding(27094, 128)\n",
      "  (spot_embedding): Embedding(42852, 128)\n",
      "  (layers): ModuleList(\n",
      "    (0): UserSpotConv()\n",
      "    (1): UserSpotConv()\n",
      "    (2): UserSpotConv()\n",
      "  )\n",
      ")\n"
     ]
    }
   ],
   "source": [
    "from conv.mixgcn import MixGCN\n",
    "import yaml\n",
    "with open('./config.yaml') as f:\n",
    "    config = yaml.safe_load(f)\n",
    "config['model']['hidden_channels'] = 128\n",
    "config['model']['num_layers'] = 3\n",
    "model = MixGCN(config)\n",
    "print(model)"
   ]
  },
  {
   "cell_type": "code",
   "execution_count": 3,
   "metadata": {},
   "outputs": [
    {
     "data": {
      "text/plain": [
       "<All keys matched successfully>"
      ]
     },
     "execution_count": 3,
     "metadata": {},
     "output_type": "execute_result"
    }
   ],
   "source": [
    "model.load_state_dict(torch.load('data/lightgcn.pth'))"
   ]
  },
  {
   "cell_type": "code",
   "execution_count": 8,
   "metadata": {},
   "outputs": [],
   "source": [
    "spot_emb = model.spot_embedding.weight\n",
    "user_emb = model.user_embedding.weight"
   ]
  },
  {
   "cell_type": "code",
   "execution_count": 9,
   "metadata": {},
   "outputs": [],
   "source": [
    "torch.save(spot_emb,'/home/yamanishi/project/trip_recommend/model/recommendation/data/item_emb_lgcn.pt')\n",
    "torch.save(user_emb, '/home/yamanishi/project/trip_recommend/model/recommendation/data/user_emb_lgcn.pt')"
   ]
  },
  {
   "cell_type": "code",
   "execution_count": null,
   "metadata": {},
   "outputs": [],
   "source": []
  }
 ],
 "metadata": {
  "kernelspec": {
   "display_name": "tr",
   "language": "python",
   "name": "python3"
  },
  "language_info": {
   "codemirror_mode": {
    "name": "ipython",
    "version": 3
   },
   "file_extension": ".py",
   "mimetype": "text/x-python",
   "name": "python",
   "nbconvert_exporter": "python",
   "pygments_lexer": "ipython3",
   "version": "3.7.13"
  },
  "orig_nbformat": 4,
  "vscode": {
   "interpreter": {
    "hash": "cb7fd00ce814af2508d6be1eb23bc2389e6324688a503887654641dc0e66d2d9"
   }
  }
 },
 "nbformat": 4,
 "nbformat_minor": 2
}
