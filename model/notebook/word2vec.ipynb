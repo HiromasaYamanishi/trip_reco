{
 "cells": [
  {
   "cell_type": "code",
   "execution_count": 2,
   "metadata": {},
   "outputs": [
    {
     "data": {
      "text/plain": [
       "tensor([1, 4, 5, 5, 4, 4, 1, 1])"
      ]
     },
     "execution_count": 2,
     "metadata": {},
     "output_type": "execute_result"
    }
   ],
   "source": [
    "import torch \n",
    "a = torch.tensor([1,4,5])\n",
    "a[torch.tensor([0,1,2,2,1,1,0,0])]"
   ]
  },
  {
   "cell_type": "code",
   "execution_count": 3,
   "metadata": {},
   "outputs": [],
   "source": [
    "a = torch.rand(1,9)"
   ]
  },
  {
   "cell_type": "code",
   "execution_count": 5,
   "metadata": {},
   "outputs": [
    {
     "data": {
      "text/plain": [
       "tensor([0.8121, 0.5323, 0.1954, 0.6745, 0.4540, 0.9297, 0.5075, 0.5724, 0.3553])"
      ]
     },
     "execution_count": 5,
     "metadata": {},
     "output_type": "execute_result"
    }
   ],
   "source": [
    "a.reshape(-1)"
   ]
  },
  {
   "cell_type": "code",
   "execution_count": 6,
   "metadata": {},
   "outputs": [
    {
     "data": {
      "text/plain": [
       "True"
      ]
     },
     "execution_count": 6,
     "metadata": {},
     "output_type": "execute_result"
    }
   ],
   "source": [
    "d = {'a':1}\n",
    "isinstance(d,dict)"
   ]
  },
  {
   "cell_type": "code",
   "execution_count": 12,
   "metadata": {},
   "outputs": [],
   "source": [
    "a = torch.rand(3,2)\n",
    "b = torch.rand(6,2)\n",
    "a_size= a.size()[0]\n",
    "b_size = b.size()[0]"
   ]
  },
  {
   "cell_type": "code",
   "execution_count": 13,
   "metadata": {},
   "outputs": [
    {
     "data": {
      "text/plain": [
       "torch.Size([3, 6, 4])"
      ]
     },
     "execution_count": 13,
     "metadata": {},
     "output_type": "execute_result"
    }
   ],
   "source": [
    "c=torch.cat([a.repeat(1,b_size).view(a_size*b_size,-1), b.repeat(a_size, 1)],dim=1).view(a_size, b_size, 2*2)\n",
    "c.size()"
   ]
  },
  {
   "cell_type": "code",
   "execution_count": 16,
   "metadata": {},
   "outputs": [],
   "source": [
    "import torch.nn as nn\n",
    "attention = nn.Parameter(torch.zeros(size=(2*2, 1))) #xavier paramiter inizializator\n",
    "nn.init.xavier_uniform_(attention.data, gain=1.414)\n",
    "leakyReLU = nn.LeakyReLU(0.2)\n",
    "attention = leakyReLU(torch.matmul(c, attention).squeeze(2))"
   ]
  },
  {
   "cell_type": "code",
   "execution_count": 17,
   "metadata": {},
   "outputs": [
    {
     "data": {
      "text/plain": [
       "tensor([[-0.1523, -0.2347, -0.2393, -0.1633, -0.2116, -0.1812],\n",
       "        [-0.2855, -0.3679, -0.3726, -0.2965, -0.3449, -0.3144],\n",
       "        [-0.2330, -0.3154, -0.3200, -0.2440, -0.2923, -0.2619]],\n",
       "       grad_fn=<LeakyReluBackward0>)"
      ]
     },
     "execution_count": 17,
     "metadata": {},
     "output_type": "execute_result"
    }
   ],
   "source": [
    "attention"
   ]
  },
  {
   "cell_type": "code",
   "execution_count": 21,
   "metadata": {},
   "outputs": [
    {
     "name": "stdout",
     "output_type": "stream",
     "text": [
      "tensor([[0.8113, 0.1901],\n",
      "        [0.6264, 0.0329],\n",
      "        [0.3641, 0.6264],\n",
      "        [0.0731, 0.3439]])\n",
      "tensor([0.9536, 0.1569, 0.3461, 0.3377])\n",
      "tensor([[0.7737, 0.1813],\n",
      "        [0.0983, 0.0052],\n",
      "        [0.1260, 0.2168],\n",
      "        [0.0247, 0.1161]])\n"
     ]
    }
   ],
   "source": [
    "a = torch.rand(4,2)\n",
    "b = torch.rand(4)\n",
    "print(a)\n",
    "print(b)\n",
    "print(a*b.reshape(-1,1))"
   ]
  },
  {
   "cell_type": "code",
   "execution_count": 2,
   "metadata": {},
   "outputs": [],
   "source": [
    "itenary = np.load('/home/yamanishi/project/trip_recommend/data/jalan/itenary_all.npy', allow_pickle=True)"
   ]
  },
  {
   "cell_type": "code",
   "execution_count": 4,
   "metadata": {},
   "outputs": [
    {
     "data": {
      "text/plain": [
       "4907"
      ]
     },
     "execution_count": 4,
     "metadata": {},
     "output_type": "execute_result"
    }
   ],
   "source": [
    "len(itenary)"
   ]
  },
  {
   "cell_type": "code",
   "execution_count": null,
   "metadata": {},
   "outputs": [],
   "source": []
  }
 ],
 "metadata": {
  "kernelspec": {
   "display_name": "Python 3.7.13 64-bit ('study_group')",
   "language": "python",
   "name": "python3"
  },
  "language_info": {
   "codemirror_mode": {
    "name": "ipython",
    "version": 3
   },
   "file_extension": ".py",
   "mimetype": "text/x-python",
   "name": "python",
   "nbconvert_exporter": "python",
   "pygments_lexer": "ipython3",
   "version": "3.7.13"
  },
  "orig_nbformat": 4,
  "vscode": {
   "interpreter": {
    "hash": "7a865c41608e708ace9ed6e40a66ff8f45d4fe73a2fce76e3bb9141e87d20f44"
   }
  }
 },
 "nbformat": 4,
 "nbformat_minor": 2
}
